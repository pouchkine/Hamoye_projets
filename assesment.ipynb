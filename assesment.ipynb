{
 "cells": [
  {
   "cell_type": "raw",
   "id": "eac9a057",
   "metadata": {},
   "source": [
    "we first import packages"
   ]
  },
  {
   "cell_type": "code",
   "execution_count": 1,
   "id": "23b1edf9",
   "metadata": {},
   "outputs": [],
   "source": [
    "import pandas as pd"
   ]
  },
  {
   "cell_type": "code",
   "execution_count": 2,
   "id": "5feb65b6",
   "metadata": {},
   "outputs": [],
   "source": [
    "data=pd.read_csv('FoodBalanceSheets_E_Africa_NOFLAG.csv',encoding='latin-1')"
   ]
  },
  {
   "cell_type": "code",
   "execution_count": 58,
   "id": "3e94497a",
   "metadata": {},
   "outputs": [
    {
     "data": {
      "text/plain": [
       "array(['Total Population - Both sexes', 'Domestic supply quantity',\n",
       "       'Food supply (kcal/capita/day)',\n",
       "       'Protein supply quantity (g/capita/day)',\n",
       "       'Fat supply quantity (g/capita/day)', 'Production',\n",
       "       'Import Quantity', 'Stock Variation', 'Export Quantity', 'Feed',\n",
       "       'Seed', 'Losses', 'Processing', 'Other uses (non-food)',\n",
       "       'Residuals', 'Food', 'Food supply quantity (kg/capita/yr)',\n",
       "       'Tourist consumption'], dtype=object)"
      ]
     },
     "execution_count": 58,
     "metadata": {},
     "output_type": "execute_result"
    }
   ],
   "source": [
    "data['Element'].unique()"
   ]
  },
  {
   "cell_type": "code",
   "execution_count": 3,
   "id": "06d23333",
   "metadata": {},
   "outputs": [
    {
     "data": {
      "text/html": [
       "<div>\n",
       "<style scoped>\n",
       "    .dataframe tbody tr th:only-of-type {\n",
       "        vertical-align: middle;\n",
       "    }\n",
       "\n",
       "    .dataframe tbody tr th {\n",
       "        vertical-align: top;\n",
       "    }\n",
       "\n",
       "    .dataframe thead th {\n",
       "        text-align: right;\n",
       "    }\n",
       "</style>\n",
       "<table border=\"1\" class=\"dataframe\">\n",
       "  <thead>\n",
       "    <tr style=\"text-align: right;\">\n",
       "      <th></th>\n",
       "      <th>Area Code</th>\n",
       "      <th>Area</th>\n",
       "      <th>Item Code</th>\n",
       "      <th>Item</th>\n",
       "      <th>Element Code</th>\n",
       "      <th>Element</th>\n",
       "      <th>Unit</th>\n",
       "      <th>Y2014</th>\n",
       "      <th>Y2015</th>\n",
       "      <th>Y2016</th>\n",
       "      <th>Y2017</th>\n",
       "      <th>Y2018</th>\n",
       "    </tr>\n",
       "  </thead>\n",
       "  <tbody>\n",
       "    <tr>\n",
       "      <th>0</th>\n",
       "      <td>4</td>\n",
       "      <td>Algeria</td>\n",
       "      <td>2501</td>\n",
       "      <td>Population</td>\n",
       "      <td>511</td>\n",
       "      <td>Total Population - Both sexes</td>\n",
       "      <td>1000 persons</td>\n",
       "      <td>38924.00</td>\n",
       "      <td>39728.00</td>\n",
       "      <td>40551.00</td>\n",
       "      <td>41389.00</td>\n",
       "      <td>42228.00</td>\n",
       "    </tr>\n",
       "    <tr>\n",
       "      <th>1</th>\n",
       "      <td>4</td>\n",
       "      <td>Algeria</td>\n",
       "      <td>2501</td>\n",
       "      <td>Population</td>\n",
       "      <td>5301</td>\n",
       "      <td>Domestic supply quantity</td>\n",
       "      <td>1000 tonnes</td>\n",
       "      <td>0.00</td>\n",
       "      <td>0.00</td>\n",
       "      <td>0.00</td>\n",
       "      <td>0.00</td>\n",
       "      <td>0.00</td>\n",
       "    </tr>\n",
       "    <tr>\n",
       "      <th>2</th>\n",
       "      <td>4</td>\n",
       "      <td>Algeria</td>\n",
       "      <td>2901</td>\n",
       "      <td>Grand Total</td>\n",
       "      <td>664</td>\n",
       "      <td>Food supply (kcal/capita/day)</td>\n",
       "      <td>kcal/capita/day</td>\n",
       "      <td>3377.00</td>\n",
       "      <td>3379.00</td>\n",
       "      <td>3372.00</td>\n",
       "      <td>3341.00</td>\n",
       "      <td>3322.00</td>\n",
       "    </tr>\n",
       "    <tr>\n",
       "      <th>3</th>\n",
       "      <td>4</td>\n",
       "      <td>Algeria</td>\n",
       "      <td>2901</td>\n",
       "      <td>Grand Total</td>\n",
       "      <td>674</td>\n",
       "      <td>Protein supply quantity (g/capita/day)</td>\n",
       "      <td>g/capita/day</td>\n",
       "      <td>94.90</td>\n",
       "      <td>94.35</td>\n",
       "      <td>94.72</td>\n",
       "      <td>92.82</td>\n",
       "      <td>91.83</td>\n",
       "    </tr>\n",
       "    <tr>\n",
       "      <th>4</th>\n",
       "      <td>4</td>\n",
       "      <td>Algeria</td>\n",
       "      <td>2901</td>\n",
       "      <td>Grand Total</td>\n",
       "      <td>684</td>\n",
       "      <td>Fat supply quantity (g/capita/day)</td>\n",
       "      <td>g/capita/day</td>\n",
       "      <td>80.06</td>\n",
       "      <td>79.36</td>\n",
       "      <td>77.40</td>\n",
       "      <td>80.19</td>\n",
       "      <td>77.28</td>\n",
       "    </tr>\n",
       "  </tbody>\n",
       "</table>\n",
       "</div>"
      ],
      "text/plain": [
       "   Area Code     Area  Item Code         Item  Element Code  \\\n",
       "0          4  Algeria       2501   Population           511   \n",
       "1          4  Algeria       2501   Population          5301   \n",
       "2          4  Algeria       2901  Grand Total           664   \n",
       "3          4  Algeria       2901  Grand Total           674   \n",
       "4          4  Algeria       2901  Grand Total           684   \n",
       "\n",
       "                                  Element             Unit     Y2014  \\\n",
       "0           Total Population - Both sexes     1000 persons  38924.00   \n",
       "1                Domestic supply quantity      1000 tonnes      0.00   \n",
       "2           Food supply (kcal/capita/day)  kcal/capita/day   3377.00   \n",
       "3  Protein supply quantity (g/capita/day)     g/capita/day     94.90   \n",
       "4      Fat supply quantity (g/capita/day)     g/capita/day     80.06   \n",
       "\n",
       "      Y2015     Y2016     Y2017     Y2018  \n",
       "0  39728.00  40551.00  41389.00  42228.00  \n",
       "1      0.00      0.00      0.00      0.00  \n",
       "2   3379.00   3372.00   3341.00   3322.00  \n",
       "3     94.35     94.72     92.82     91.83  \n",
       "4     79.36     77.40     80.19     77.28  "
      ]
     },
     "execution_count": 3,
     "metadata": {},
     "output_type": "execute_result"
    }
   ],
   "source": [
    "data.head()"
   ]
  },
  {
   "cell_type": "code",
   "execution_count": null,
   "id": "bbf03432",
   "metadata": {},
   "outputs": [],
   "source": [
    "#11 What is the total sum of Animal Fat produced in 2014 and 2017 respectively"
   ]
  },
  {
   "cell_type": "code",
   "execution_count": null,
   "id": "3aa1bea8",
   "metadata": {},
   "outputs": [],
   "source": [
    "#12                  What is the mean and \n",
    "#standard deviation across the whole dataset for the year 2015 to 3 decimal places?"
   ]
  },
  {
   "cell_type": "code",
   "execution_count": 33,
   "id": "3eac72db",
   "metadata": {},
   "outputs": [
    {
     "data": {
      "text/plain": [
       "mean     135.235966\n",
       "std     1603.403984\n",
       "Name: Y2015, dtype: float64"
      ]
     },
     "execution_count": 33,
     "metadata": {},
     "output_type": "execute_result"
    }
   ],
   "source": [
    "data.describe()['Y2015'][['mean','std']]"
   ]
  },
  {
   "cell_type": "code",
   "execution_count": null,
   "id": "11082726",
   "metadata": {},
   "outputs": [],
   "source": [
    "#13 What is the total number and percentage of missing data in 2016 to 2 decimal places"
   ]
  },
  {
   "cell_type": "code",
   "execution_count": 38,
   "id": "404250c8",
   "metadata": {},
   "outputs": [
    {
     "data": {
      "text/plain": [
       "1535"
      ]
     },
     "execution_count": 38,
     "metadata": {},
     "output_type": "execute_result"
    }
   ],
   "source": [
    "number_na=data['Y2016'].isna().sum()\n",
    "number_na"
   ]
  },
  {
   "cell_type": "code",
   "execution_count": 37,
   "id": "884aa242",
   "metadata": {},
   "outputs": [
    {
     "data": {
      "text/plain": [
       "0.025187470259094565"
      ]
     },
     "execution_count": 37,
     "metadata": {},
     "output_type": "execute_result"
    }
   ],
   "source": [
    "percentage_na=number_na/len(data)\n",
    "percentage_na"
   ]
  },
  {
   "cell_type": "code",
   "execution_count": null,
   "id": "0b21bf81",
   "metadata": {},
   "outputs": [],
   "source": [
    "#14 Which year had the highest correlation with ‘Element Code’? "
   ]
  },
  {
   "cell_type": "code",
   "execution_count": 49,
   "id": "9d691beb",
   "metadata": {},
   "outputs": [
    {
     "data": {
      "text/plain": [
       "Y2014    0.024457\n",
       "Y2018    0.024279\n",
       "Y2017    0.024254\n",
       "Y2015    0.023889\n",
       "Y2016    0.023444\n",
       "Name: Element Code, dtype: float64"
      ]
     },
     "execution_count": 49,
     "metadata": {},
     "output_type": "execute_result"
    }
   ],
   "source": [
    "data.corr()['Element Code'][-5:].sort_values(ascending=False)"
   ]
  },
  {
   "cell_type": "code",
   "execution_count": null,
   "id": "28b7d6d0",
   "metadata": {},
   "outputs": [],
   "source": [
    "#15 What year has the highest sum of Import Quantity?"
   ]
  },
  {
   "cell_type": "code",
   "execution_count": null,
   "id": "cc13fbb6",
   "metadata": {},
   "outputs": [],
   "source": [
    "years=data.groupby('Element').sum().loc['Export Quantity'][-5:]"
   ]
  },
  {
   "cell_type": "code",
   "execution_count": 50,
   "id": "0542efd0",
   "metadata": {},
   "outputs": [
    {
     "data": {
      "text/plain": [
       "Index(['Y2017'], dtype='object')"
      ]
     },
     "execution_count": 50,
     "metadata": {},
     "output_type": "execute_result"
    }
   ],
   "source": [
    "years[years==years.max()].index"
   ]
  },
  {
   "cell_type": "code",
   "execution_count": null,
   "id": "2db318a8",
   "metadata": {},
   "outputs": [],
   "source": [
    "#16 What is the total number of the sum of Production in 2014?"
   ]
  },
  {
   "cell_type": "code",
   "execution_count": 62,
   "id": "22720c3d",
   "metadata": {},
   "outputs": [
    {
     "data": {
      "text/plain": [
       "1931287.75"
      ]
     },
     "execution_count": 62,
     "metadata": {},
     "output_type": "execute_result"
    }
   ],
   "source": [
    "data.groupby('Element').sum().loc['Production','Y2014']"
   ]
  },
  {
   "cell_type": "code",
   "execution_count": null,
   "id": "e128b200",
   "metadata": {},
   "outputs": [],
   "source": [
    "#17 Which of these elements had the highest sum in 2018?"
   ]
  },
  {
   "cell_type": "code",
   "execution_count": 68,
   "id": "eec6ea07",
   "metadata": {},
   "outputs": [],
   "source": [
    "element_2018=data.groupby('Element').sum()['Y2018'].sort_values(ascending=False)"
   ]
  },
  {
   "cell_type": "code",
   "execution_count": 71,
   "id": "16f0fdb1",
   "metadata": {},
   "outputs": [
    {
     "data": {
      "text/plain": [
       "Element\n",
       "Protein supply quantity (g/capita/day)    11833.56\n",
       "Name: Y2018, dtype: float64"
      ]
     },
     "execution_count": 71,
     "metadata": {},
     "output_type": "execute_result"
    }
   ],
   "source": [
    "element_2018[element_2018==element_2018[-3]]"
   ]
  },
  {
   "cell_type": "code",
   "execution_count": null,
   "id": "b0b3e795",
   "metadata": {},
   "outputs": [],
   "source": [
    "#18 What is the total Import Quantity in Algeria in 2018?"
   ]
  },
  {
   "cell_type": "code",
   "execution_count": 82,
   "id": "9d23a5f3",
   "metadata": {},
   "outputs": [
    {
     "data": {
      "text/html": [
       "<div>\n",
       "<style scoped>\n",
       "    .dataframe tbody tr th:only-of-type {\n",
       "        vertical-align: middle;\n",
       "    }\n",
       "\n",
       "    .dataframe tbody tr th {\n",
       "        vertical-align: top;\n",
       "    }\n",
       "\n",
       "    .dataframe thead th {\n",
       "        text-align: right;\n",
       "    }\n",
       "</style>\n",
       "<table border=\"1\" class=\"dataframe\">\n",
       "  <thead>\n",
       "    <tr style=\"text-align: right;\">\n",
       "      <th></th>\n",
       "      <th></th>\n",
       "      <th>Area Code</th>\n",
       "      <th>Item Code</th>\n",
       "      <th>Element Code</th>\n",
       "      <th>Y2014</th>\n",
       "      <th>Y2015</th>\n",
       "      <th>Y2016</th>\n",
       "      <th>Y2017</th>\n",
       "      <th>Y2018</th>\n",
       "    </tr>\n",
       "    <tr>\n",
       "      <th>Element</th>\n",
       "      <th>Area</th>\n",
       "      <th></th>\n",
       "      <th></th>\n",
       "      <th></th>\n",
       "      <th></th>\n",
       "      <th></th>\n",
       "      <th></th>\n",
       "      <th></th>\n",
       "      <th></th>\n",
       "    </tr>\n",
       "  </thead>\n",
       "  <tbody>\n",
       "    <tr>\n",
       "      <th rowspan=\"5\" valign=\"top\">Domestic supply quantity</th>\n",
       "      <th>Algeria</th>\n",
       "      <td>464</td>\n",
       "      <td>311204</td>\n",
       "      <td>614916</td>\n",
       "      <td>83755.94</td>\n",
       "      <td>85972.86</td>\n",
       "      <td>87157.61</td>\n",
       "      <td>86810.42</td>\n",
       "      <td>90023.42</td>\n",
       "    </tr>\n",
       "    <tr>\n",
       "      <th>Angola</th>\n",
       "      <td>826</td>\n",
       "      <td>316106</td>\n",
       "      <td>625518</td>\n",
       "      <td>53786.91</td>\n",
       "      <td>55482.91</td>\n",
       "      <td>55719.68</td>\n",
       "      <td>57065.22</td>\n",
       "      <td>59590.22</td>\n",
       "    </tr>\n",
       "    <tr>\n",
       "      <th>Benin</th>\n",
       "      <td>6148</td>\n",
       "      <td>310985</td>\n",
       "      <td>614916</td>\n",
       "      <td>29864.06</td>\n",
       "      <td>27661.67</td>\n",
       "      <td>30650.03</td>\n",
       "      <td>32132.90</td>\n",
       "      <td>31447.90</td>\n",
       "    </tr>\n",
       "    <tr>\n",
       "      <th>Botswana</th>\n",
       "      <td>2340</td>\n",
       "      <td>313766</td>\n",
       "      <td>620217</td>\n",
       "      <td>2670.84</td>\n",
       "      <td>2916.14</td>\n",
       "      <td>2921.83</td>\n",
       "      <td>2579.85</td>\n",
       "      <td>3045.85</td>\n",
       "    </tr>\n",
       "    <tr>\n",
       "      <th>Burkina Faso</th>\n",
       "      <td>27494</td>\n",
       "      <td>316106</td>\n",
       "      <td>625518</td>\n",
       "      <td>24637.15</td>\n",
       "      <td>23658.17</td>\n",
       "      <td>24498.86</td>\n",
       "      <td>23276.16</td>\n",
       "      <td>25705.16</td>\n",
       "    </tr>\n",
       "    <tr>\n",
       "      <th>...</th>\n",
       "      <th>...</th>\n",
       "      <td>...</td>\n",
       "      <td>...</td>\n",
       "      <td>...</td>\n",
       "      <td>...</td>\n",
       "      <td>...</td>\n",
       "      <td>...</td>\n",
       "      <td>...</td>\n",
       "      <td>...</td>\n",
       "    </tr>\n",
       "    <tr>\n",
       "      <th rowspan=\"5\" valign=\"top\">Tourist consumption</th>\n",
       "      <th>Cabo Verde</th>\n",
       "      <td>3150</td>\n",
       "      <td>241236</td>\n",
       "      <td>465390</td>\n",
       "      <td>3.00</td>\n",
       "      <td>5.00</td>\n",
       "      <td>7.00</td>\n",
       "      <td>7.00</td>\n",
       "      <td>7.00</td>\n",
       "    </tr>\n",
       "    <tr>\n",
       "      <th>Egypt</th>\n",
       "      <td>5546</td>\n",
       "      <td>251428</td>\n",
       "      <td>486074</td>\n",
       "      <td>348.00</td>\n",
       "      <td>286.00</td>\n",
       "      <td>23.00</td>\n",
       "      <td>23.00</td>\n",
       "      <td>23.00</td>\n",
       "    </tr>\n",
       "    <tr>\n",
       "      <th>Kenya</th>\n",
       "      <td>11172</td>\n",
       "      <td>261986</td>\n",
       "      <td>506758</td>\n",
       "      <td>17.00</td>\n",
       "      <td>17.00</td>\n",
       "      <td>17.00</td>\n",
       "      <td>17.00</td>\n",
       "      <td>17.00</td>\n",
       "    </tr>\n",
       "    <tr>\n",
       "      <th>Mauritius</th>\n",
       "      <td>12467</td>\n",
       "      <td>243857</td>\n",
       "      <td>470561</td>\n",
       "      <td>26.00</td>\n",
       "      <td>29.00</td>\n",
       "      <td>31.00</td>\n",
       "      <td>31.00</td>\n",
       "      <td>31.00</td>\n",
       "    </tr>\n",
       "    <tr>\n",
       "      <th>Sao Tome and Principe</th>\n",
       "      <td>16019</td>\n",
       "      <td>223107</td>\n",
       "      <td>429193</td>\n",
       "      <td>10.00</td>\n",
       "      <td>12.00</td>\n",
       "      <td>11.00</td>\n",
       "      <td>13.00</td>\n",
       "      <td>12.00</td>\n",
       "    </tr>\n",
       "  </tbody>\n",
       "</table>\n",
       "<p>803 rows × 8 columns</p>\n",
       "</div>"
      ],
      "text/plain": [
       "                                                Area Code  Item Code  \\\n",
       "Element                  Area                                          \n",
       "Domestic supply quantity Algeria                      464     311204   \n",
       "                         Angola                       826     316106   \n",
       "                         Benin                       6148     310985   \n",
       "                         Botswana                    2340     313766   \n",
       "                         Burkina Faso               27494     316106   \n",
       "...                                                   ...        ...   \n",
       "Tourist consumption      Cabo Verde                  3150     241236   \n",
       "                         Egypt                       5546     251428   \n",
       "                         Kenya                      11172     261986   \n",
       "                         Mauritius                  12467     243857   \n",
       "                         Sao Tome and Principe      16019     223107   \n",
       "\n",
       "                                                Element Code     Y2014  \\\n",
       "Element                  Area                                            \n",
       "Domestic supply quantity Algeria                      614916  83755.94   \n",
       "                         Angola                       625518  53786.91   \n",
       "                         Benin                        614916  29864.06   \n",
       "                         Botswana                     620217   2670.84   \n",
       "                         Burkina Faso                 625518  24637.15   \n",
       "...                                                      ...       ...   \n",
       "Tourist consumption      Cabo Verde                   465390      3.00   \n",
       "                         Egypt                        486074    348.00   \n",
       "                         Kenya                        506758     17.00   \n",
       "                         Mauritius                    470561     26.00   \n",
       "                         Sao Tome and Principe        429193     10.00   \n",
       "\n",
       "                                                   Y2015     Y2016     Y2017  \\\n",
       "Element                  Area                                                  \n",
       "Domestic supply quantity Algeria                85972.86  87157.61  86810.42   \n",
       "                         Angola                 55482.91  55719.68  57065.22   \n",
       "                         Benin                  27661.67  30650.03  32132.90   \n",
       "                         Botswana                2916.14   2921.83   2579.85   \n",
       "                         Burkina Faso           23658.17  24498.86  23276.16   \n",
       "...                                                  ...       ...       ...   \n",
       "Tourist consumption      Cabo Verde                 5.00      7.00      7.00   \n",
       "                         Egypt                    286.00     23.00     23.00   \n",
       "                         Kenya                     17.00     17.00     17.00   \n",
       "                         Mauritius                 29.00     31.00     31.00   \n",
       "                         Sao Tome and Principe     12.00     11.00     13.00   \n",
       "\n",
       "                                                   Y2018  \n",
       "Element                  Area                             \n",
       "Domestic supply quantity Algeria                90023.42  \n",
       "                         Angola                 59590.22  \n",
       "                         Benin                  31447.90  \n",
       "                         Botswana                3045.85  \n",
       "                         Burkina Faso           25705.16  \n",
       "...                                                  ...  \n",
       "Tourist consumption      Cabo Verde                 7.00  \n",
       "                         Egypt                     23.00  \n",
       "                         Kenya                     17.00  \n",
       "                         Mauritius                 31.00  \n",
       "                         Sao Tome and Principe     12.00  \n",
       "\n",
       "[803 rows x 8 columns]"
      ]
     },
     "execution_count": 82,
     "metadata": {},
     "output_type": "execute_result"
    }
   ],
   "source": [
    "total_2018=data.groupby(['Element','Area']).sum()\n",
    "total_2018"
   ]
  },
  {
   "cell_type": "code",
   "execution_count": 75,
   "id": "a113c465",
   "metadata": {},
   "outputs": [],
   "source": [
    "Algeria=data[data['Area']== 'Algeria']"
   ]
  },
  {
   "cell_type": "code",
   "execution_count": 84,
   "id": "99b25219",
   "metadata": {},
   "outputs": [
    {
     "data": {
      "text/plain": [
       "90023.42"
      ]
     },
     "execution_count": 84,
     "metadata": {},
     "output_type": "execute_result"
    }
   ],
   "source": [
    "total_2018_=Algeria.groupby('Element').sum().loc['Domestic supply quantity','Y2018']\n",
    "total_2018_"
   ]
  },
  {
   "cell_type": "code",
   "execution_count": 27,
   "id": "45f40861",
   "metadata": {},
   "outputs": [],
   "source": [
    "#19 What is the total number of unique countries in the dataset?"
   ]
  },
  {
   "cell_type": "code",
   "execution_count": 86,
   "id": "6e5b7205",
   "metadata": {},
   "outputs": [
    {
     "data": {
      "text/plain": [
       "49"
      ]
     },
     "execution_count": 86,
     "metadata": {},
     "output_type": "execute_result"
    }
   ],
   "source": [
    "data.nunique()['Area']"
   ]
  }
 ],
 "metadata": {
  "kernelspec": {
   "display_name": "Python 3 (ipykernel)",
   "language": "python",
   "name": "python3"
  },
  "language_info": {
   "codemirror_mode": {
    "name": "ipython",
    "version": 3
   },
   "file_extension": ".py",
   "mimetype": "text/x-python",
   "name": "python",
   "nbconvert_exporter": "python",
   "pygments_lexer": "ipython3",
   "version": "3.9.7"
  }
 },
 "nbformat": 4,
 "nbformat_minor": 5
}
